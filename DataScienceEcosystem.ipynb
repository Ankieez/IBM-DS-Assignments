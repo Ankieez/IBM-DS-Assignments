{
 "cells": [
  {
   "cell_type": "markdown",
   "id": "a3c68bd8",
   "metadata": {},
   "source": [
    "# Data Science Tools and Ecosystem"
   ]
  },
  {
   "cell_type": "markdown",
   "id": "6332570f",
   "metadata": {},
   "source": [
    "In this notebook, Data Science Tools and Ecosystem are summarized."
   ]
  },
  {
   "cell_type": "markdown",
   "id": "3f662df3",
   "metadata": {},
   "source": [
    "Some of the popular languages that Data Scientists use are:"
   ]
  },
  {
   "cell_type": "markdown",
   "id": "1b3c2950",
   "metadata": {},
   "source": [
    "1. Py"
   ]
  },
  {
   "cell_type": "markdown",
   "id": "e95d26f8",
   "metadata": {},
   "source": [
    "2. R"
   ]
  },
  {
   "cell_type": "markdown",
   "id": "ef17a35f",
   "metadata": {},
   "source": [
    "3. C++"
   ]
  },
  {
   "cell_type": "markdown",
   "id": "4d668ed6",
   "metadata": {},
   "source": [
    "Some of the commonly used libraries used by Data Scientists include:"
   ]
  },
  {
   "cell_type": "markdown",
   "id": "7c6e0837",
   "metadata": {},
   "source": [
    "1. pandas\n",
    "2. numpy\n",
    "3. seaborn"
   ]
  },
  {
   "cell_type": "markdown",
   "id": "b61569b8",
   "metadata": {},
   "source": [
    "| Data Science Tools |\n",
    "| --- |\n",
    "| Jupyter Notebook |\n",
    "| Anaconda |\n",
    "| Spyder |"
   ]
  },
  {
   "cell_type": "markdown",
   "id": "4374041f",
   "metadata": {},
   "source": [
    "### Below are a few examples of evaluating arithmetic expressions in Python"
   ]
  },
  {
   "cell_type": "code",
   "execution_count": 7,
   "id": "5ca8492c",
   "metadata": {},
   "outputs": [
    {
     "data": {
      "text/plain": [
       "17"
      ]
     },
     "execution_count": 7,
     "metadata": {},
     "output_type": "execute_result"
    }
   ],
   "source": [
    "# This a simple arithmetic expression to mutiply then add integers\n",
    "(3*4)+5"
   ]
  },
  {
   "cell_type": "code",
   "execution_count": 10,
   "id": "59e8f0bb",
   "metadata": {},
   "outputs": [
    {
     "name": "stdout",
     "output_type": "stream",
     "text": [
      "3.3333333333333335 hrs\n"
     ]
    }
   ],
   "source": [
    "# This will convert 200 minutes to hours by diving by 60\n",
    "m=200\n",
    "h=m/60\n",
    "print(str(h)+\" hrs\")"
   ]
  },
  {
   "cell_type": "markdown",
   "id": "0ac773ca",
   "metadata": {},
   "source": [
    " <b> Objectives: <b>"
   ]
  },
  {
   "cell_type": "markdown",
   "id": "a6f3e567",
   "metadata": {},
   "source": [
    "1. List popular languages for Data Science\n",
    "2. List popular languages for Data Science\n",
    "3. List popular languages for Data Science"
   ]
  },
  {
   "cell_type": "markdown",
   "id": "096c4e6a",
   "metadata": {},
   "source": [
    "## Author"
   ]
  },
  {
   "cell_type": "markdown",
   "id": "f5fb8d21",
   "metadata": {},
   "source": [
    "Ankita Das"
   ]
  },
  {
   "cell_type": "code",
   "execution_count": null,
   "id": "2671d660",
   "metadata": {},
   "outputs": [],
   "source": []
  }
 ],
 "metadata": {
  "kernelspec": {
   "display_name": "Python 3 (ipykernel)",
   "language": "python",
   "name": "python3"
  },
  "language_info": {
   "codemirror_mode": {
    "name": "ipython",
    "version": 3
   },
   "file_extension": ".py",
   "mimetype": "text/x-python",
   "name": "python",
   "nbconvert_exporter": "python",
   "pygments_lexer": "ipython3",
   "version": "3.11.7"
  }
 },
 "nbformat": 4,
 "nbformat_minor": 5
}
